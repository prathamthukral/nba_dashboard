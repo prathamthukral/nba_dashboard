{
 "cells": [
  {
   "cell_type": "code",
   "execution_count": 1,
   "metadata": {},
   "outputs": [],
   "source": [
    "# Active player stats\n",
    "from nba_api.stats.endpoints import playercareerstats\n",
    "from nba_api.stats.static import players\n",
    "import time\n",
    "import pandas as pd\n",
    "import numpy as np"
   ]
  },
  {
   "cell_type": "code",
   "execution_count": 2,
   "metadata": {},
   "outputs": [],
   "source": [
    "player_ids = []\n",
    "player_mapping = []\n",
    "for i in players.get_inactive_players():\n",
    "    player_mapping.append(i)\n",
    "    player_ids.append(i['id'])"
   ]
  },
  {
   "cell_type": "code",
   "execution_count": 3,
   "metadata": {},
   "outputs": [
    {
     "data": {
      "text/plain": [
       "3982"
      ]
     },
     "execution_count": 3,
     "metadata": {},
     "output_type": "execute_result"
    }
   ],
   "source": [
    "len(player_ids)"
   ]
  },
  {
   "cell_type": "code",
   "execution_count": 6,
   "metadata": {},
   "outputs": [],
   "source": [
    "nba_career_stats = playercareerstats.PlayerCareerStats(\n",
    "    player_id=2544, # Lebron's ID\n",
    "    timeout=30\n",
    ").get_data_frames()[1]"
   ]
  },
  {
   "cell_type": "code",
   "execution_count": 7,
   "metadata": {},
   "outputs": [
    {
     "name": "stdout",
     "output_type": "stream",
     "text": [
      "<class 'pandas.core.frame.DataFrame'>\n",
      "RangeIndex: 1 entries, 0 to 0\n",
      "Data columns (total 24 columns):\n",
      " #   Column     Non-Null Count  Dtype  \n",
      "---  ------     --------------  -----  \n",
      " 0   PLAYER_ID  1 non-null      int64  \n",
      " 1   LEAGUE_ID  1 non-null      object \n",
      " 2   Team_ID    1 non-null      int64  \n",
      " 3   GP         1 non-null      int64  \n",
      " 4   GS         1 non-null      int64  \n",
      " 5   MIN        1 non-null      float64\n",
      " 6   FGM        1 non-null      int64  \n",
      " 7   FGA        1 non-null      int64  \n",
      " 8   FG_PCT     1 non-null      float64\n",
      " 9   FG3M       1 non-null      int64  \n",
      " 10  FG3A       1 non-null      int64  \n",
      " 11  FG3_PCT    1 non-null      float64\n",
      " 12  FTM        1 non-null      int64  \n",
      " 13  FTA        1 non-null      int64  \n",
      " 14  FT_PCT     1 non-null      float64\n",
      " 15  OREB       1 non-null      int64  \n",
      " 16  DREB       1 non-null      int64  \n",
      " 17  REB        1 non-null      int64  \n",
      " 18  AST        1 non-null      int64  \n",
      " 19  STL        1 non-null      int64  \n",
      " 20  BLK        1 non-null      int64  \n",
      " 21  TOV        1 non-null      int64  \n",
      " 22  PF         1 non-null      int64  \n",
      " 23  PTS        1 non-null      int64  \n",
      "dtypes: float64(4), int64(19), object(1)\n",
      "memory usage: 320.0+ bytes\n"
     ]
    }
   ],
   "source": [
    "nba_career_stats.info()"
   ]
  },
  {
   "cell_type": "code",
   "execution_count": 8,
   "metadata": {},
   "outputs": [
    {
     "data": {
      "text/plain": [
       "34087"
      ]
     },
     "execution_count": 8,
     "metadata": {},
     "output_type": "execute_result"
    }
   ],
   "source": [
    "nba_career_stats['PTS'].sum() #Correct - according to Google"
   ]
  },
  {
   "cell_type": "code",
   "execution_count": 51,
   "metadata": {},
   "outputs": [
    {
     "data": {
      "text/html": [
       "<div>\n",
       "<style scoped>\n",
       "    .dataframe tbody tr th:only-of-type {\n",
       "        vertical-align: middle;\n",
       "    }\n",
       "\n",
       "    .dataframe tbody tr th {\n",
       "        vertical-align: top;\n",
       "    }\n",
       "\n",
       "    .dataframe thead th {\n",
       "        text-align: right;\n",
       "    }\n",
       "</style>\n",
       "<table border=\"1\" class=\"dataframe\">\n",
       "  <thead>\n",
       "    <tr style=\"text-align: right;\">\n",
       "      <th></th>\n",
       "      <th>PLAYER_ID</th>\n",
       "      <th>LEAGUE_ID</th>\n",
       "      <th>Team_ID</th>\n",
       "      <th>GP</th>\n",
       "      <th>GS</th>\n",
       "      <th>MIN</th>\n",
       "      <th>FGM</th>\n",
       "      <th>FGA</th>\n",
       "      <th>FG_PCT</th>\n",
       "      <th>FG3M</th>\n",
       "      <th>...</th>\n",
       "      <th>FT_PCT</th>\n",
       "      <th>OREB</th>\n",
       "      <th>DREB</th>\n",
       "      <th>REB</th>\n",
       "      <th>AST</th>\n",
       "      <th>STL</th>\n",
       "      <th>BLK</th>\n",
       "      <th>TOV</th>\n",
       "      <th>PF</th>\n",
       "      <th>PTS</th>\n",
       "    </tr>\n",
       "  </thead>\n",
       "  <tbody>\n",
       "    <tr>\n",
       "      <th>0</th>\n",
       "      <td>201238</td>\n",
       "      <td>00</td>\n",
       "      <td>0</td>\n",
       "      <td>162</td>\n",
       "      <td>9</td>\n",
       "      <td>796</td>\n",
       "      <td>56</td>\n",
       "      <td>125</td>\n",
       "      <td>0.448000</td>\n",
       "      <td>2</td>\n",
       "      <td>...</td>\n",
       "      <td>0.563380</td>\n",
       "      <td>60</td>\n",
       "      <td>82</td>\n",
       "      <td>142</td>\n",
       "      <td>51</td>\n",
       "      <td>45</td>\n",
       "      <td>8</td>\n",
       "      <td>31</td>\n",
       "      <td>134</td>\n",
       "      <td>154</td>\n",
       "    </tr>\n",
       "    <tr>\n",
       "      <th>1</th>\n",
       "      <td>770</td>\n",
       "      <td>00</td>\n",
       "      <td>0</td>\n",
       "      <td>1090</td>\n",
       "      <td>548</td>\n",
       "      <td>20215</td>\n",
       "      <td>2528</td>\n",
       "      <td>4356</td>\n",
       "      <td>0.580348</td>\n",
       "      <td>0</td>\n",
       "      <td>...</td>\n",
       "      <td>0.568256</td>\n",
       "      <td>1785</td>\n",
       "      <td>3562</td>\n",
       "      <td>5347</td>\n",
       "      <td>428</td>\n",
       "      <td>326</td>\n",
       "      <td>1403</td>\n",
       "      <td>1208</td>\n",
       "      <td>3136</td>\n",
       "      <td>6259</td>\n",
       "    </tr>\n",
       "    <tr>\n",
       "      <th>2</th>\n",
       "      <td>78499</td>\n",
       "      <td>00</td>\n",
       "      <td>0</td>\n",
       "      <td>4</td>\n",
       "      <td>None</td>\n",
       "      <td>14</td>\n",
       "      <td>2</td>\n",
       "      <td>5</td>\n",
       "      <td>0.400000</td>\n",
       "      <td>None</td>\n",
       "      <td>...</td>\n",
       "      <td>0.000000</td>\n",
       "      <td>None</td>\n",
       "      <td>None</td>\n",
       "      <td>5</td>\n",
       "      <td>0</td>\n",
       "      <td>None</td>\n",
       "      <td>None</td>\n",
       "      <td>None</td>\n",
       "      <td>3</td>\n",
       "      <td>4</td>\n",
       "    </tr>\n",
       "    <tr>\n",
       "      <th>3</th>\n",
       "      <td>78500</td>\n",
       "      <td>00</td>\n",
       "      <td>0</td>\n",
       "      <td>823</td>\n",
       "      <td>73</td>\n",
       "      <td>20947</td>\n",
       "      <td>5079</td>\n",
       "      <td>10084</td>\n",
       "      <td>0.503669</td>\n",
       "      <td>55</td>\n",
       "      <td>...</td>\n",
       "      <td>0.819962</td>\n",
       "      <td>393</td>\n",
       "      <td>1120</td>\n",
       "      <td>1580</td>\n",
       "      <td>3591</td>\n",
       "      <td>1022</td>\n",
       "      <td>262</td>\n",
       "      <td>1117</td>\n",
       "      <td>1705</td>\n",
       "      <td>12809</td>\n",
       "    </tr>\n",
       "    <tr>\n",
       "      <th>4</th>\n",
       "      <td>78501</td>\n",
       "      <td>00</td>\n",
       "      <td>0</td>\n",
       "      <td>357</td>\n",
       "      <td>None</td>\n",
       "      <td>4714</td>\n",
       "      <td>465</td>\n",
       "      <td>1085</td>\n",
       "      <td>0.428571</td>\n",
       "      <td>None</td>\n",
       "      <td>...</td>\n",
       "      <td>0.809659</td>\n",
       "      <td>81</td>\n",
       "      <td>241</td>\n",
       "      <td>682</td>\n",
       "      <td>494</td>\n",
       "      <td>133</td>\n",
       "      <td>30</td>\n",
       "      <td>None</td>\n",
       "      <td>608</td>\n",
       "      <td>1215</td>\n",
       "    </tr>\n",
       "    <tr>\n",
       "      <th>...</th>\n",
       "      <td>...</td>\n",
       "      <td>...</td>\n",
       "      <td>...</td>\n",
       "      <td>...</td>\n",
       "      <td>...</td>\n",
       "      <td>...</td>\n",
       "      <td>...</td>\n",
       "      <td>...</td>\n",
       "      <td>...</td>\n",
       "      <td>...</td>\n",
       "      <td>...</td>\n",
       "      <td>...</td>\n",
       "      <td>...</td>\n",
       "      <td>...</td>\n",
       "      <td>...</td>\n",
       "      <td>...</td>\n",
       "      <td>...</td>\n",
       "      <td>...</td>\n",
       "      <td>...</td>\n",
       "      <td>...</td>\n",
       "      <td>...</td>\n",
       "    </tr>\n",
       "    <tr>\n",
       "      <th>226</th>\n",
       "      <td>1627757</td>\n",
       "      <td>00</td>\n",
       "      <td>0</td>\n",
       "      <td>19</td>\n",
       "      <td>0</td>\n",
       "      <td>108</td>\n",
       "      <td>10</td>\n",
       "      <td>31</td>\n",
       "      <td>0.322580</td>\n",
       "      <td>0</td>\n",
       "      <td>...</td>\n",
       "      <td>0.600000</td>\n",
       "      <td>11</td>\n",
       "      <td>24</td>\n",
       "      <td>35</td>\n",
       "      <td>4</td>\n",
       "      <td>2</td>\n",
       "      <td>5</td>\n",
       "      <td>3</td>\n",
       "      <td>17</td>\n",
       "      <td>23</td>\n",
       "    </tr>\n",
       "    <tr>\n",
       "      <th>227</th>\n",
       "      <td>1627835</td>\n",
       "      <td>00</td>\n",
       "      <td>0</td>\n",
       "      <td>98</td>\n",
       "      <td>30</td>\n",
       "      <td>1667</td>\n",
       "      <td>169</td>\n",
       "      <td>455</td>\n",
       "      <td>0.371428</td>\n",
       "      <td>70</td>\n",
       "      <td>...</td>\n",
       "      <td>0.769230</td>\n",
       "      <td>28</td>\n",
       "      <td>228</td>\n",
       "      <td>256</td>\n",
       "      <td>82</td>\n",
       "      <td>35</td>\n",
       "      <td>31</td>\n",
       "      <td>83</td>\n",
       "      <td>164</td>\n",
       "      <td>458</td>\n",
       "    </tr>\n",
       "    <tr>\n",
       "      <th>228</th>\n",
       "      <td>78647</td>\n",
       "      <td>00</td>\n",
       "      <td>0</td>\n",
       "      <td>7</td>\n",
       "      <td>0</td>\n",
       "      <td>30</td>\n",
       "      <td>1</td>\n",
       "      <td>5</td>\n",
       "      <td>0.200000</td>\n",
       "      <td>0</td>\n",
       "      <td>...</td>\n",
       "      <td>0.000000</td>\n",
       "      <td>3</td>\n",
       "      <td>5</td>\n",
       "      <td>8</td>\n",
       "      <td>1</td>\n",
       "      <td>1</td>\n",
       "      <td>3</td>\n",
       "      <td>4</td>\n",
       "      <td>9</td>\n",
       "      <td>2</td>\n",
       "    </tr>\n",
       "    <tr>\n",
       "      <th>229</th>\n",
       "      <td>78648</td>\n",
       "      <td>00</td>\n",
       "      <td>0</td>\n",
       "      <td>53</td>\n",
       "      <td>None</td>\n",
       "      <td>398</td>\n",
       "      <td>49</td>\n",
       "      <td>135</td>\n",
       "      <td>0.362962</td>\n",
       "      <td>None</td>\n",
       "      <td>...</td>\n",
       "      <td>0.555555</td>\n",
       "      <td>None</td>\n",
       "      <td>None</td>\n",
       "      <td>46</td>\n",
       "      <td>73</td>\n",
       "      <td>None</td>\n",
       "      <td>None</td>\n",
       "      <td>None</td>\n",
       "      <td>34</td>\n",
       "      <td>118</td>\n",
       "    </tr>\n",
       "    <tr>\n",
       "      <th>230</th>\n",
       "      <td>78650</td>\n",
       "      <td>00</td>\n",
       "      <td>0</td>\n",
       "      <td>56</td>\n",
       "      <td>None</td>\n",
       "      <td>None</td>\n",
       "      <td>98</td>\n",
       "      <td>323</td>\n",
       "      <td>0.303405</td>\n",
       "      <td>None</td>\n",
       "      <td>...</td>\n",
       "      <td>0.706422</td>\n",
       "      <td>None</td>\n",
       "      <td>None</td>\n",
       "      <td>None</td>\n",
       "      <td>50</td>\n",
       "      <td>None</td>\n",
       "      <td>None</td>\n",
       "      <td>None</td>\n",
       "      <td>182</td>\n",
       "      <td>273</td>\n",
       "    </tr>\n",
       "  </tbody>\n",
       "</table>\n",
       "<p>231 rows × 24 columns</p>\n",
       "</div>"
      ],
      "text/plain": [
       "    PLAYER_ID LEAGUE_ID Team_ID    GP    GS    MIN   FGM    FGA    FG_PCT  \\\n",
       "0      201238        00       0   162     9    796    56    125  0.448000   \n",
       "1         770        00       0  1090   548  20215  2528   4356  0.580348   \n",
       "2       78499        00       0     4  None     14     2      5  0.400000   \n",
       "3       78500        00       0   823    73  20947  5079  10084  0.503669   \n",
       "4       78501        00       0   357  None   4714   465   1085  0.428571   \n",
       "..        ...       ...     ...   ...   ...    ...   ...    ...       ...   \n",
       "226   1627757        00       0    19     0    108    10     31  0.322580   \n",
       "227   1627835        00       0    98    30   1667   169    455  0.371428   \n",
       "228     78647        00       0     7     0     30     1      5  0.200000   \n",
       "229     78648        00       0    53  None    398    49    135  0.362962   \n",
       "230     78650        00       0    56  None   None    98    323  0.303405   \n",
       "\n",
       "     FG3M  ...    FT_PCT  OREB  DREB   REB   AST   STL   BLK   TOV    PF  \\\n",
       "0       2  ...  0.563380    60    82   142    51    45     8    31   134   \n",
       "1       0  ...  0.568256  1785  3562  5347   428   326  1403  1208  3136   \n",
       "2    None  ...  0.000000  None  None     5     0  None  None  None     3   \n",
       "3      55  ...  0.819962   393  1120  1580  3591  1022   262  1117  1705   \n",
       "4    None  ...  0.809659    81   241   682   494   133    30  None   608   \n",
       "..    ...  ...       ...   ...   ...   ...   ...   ...   ...   ...   ...   \n",
       "226     0  ...  0.600000    11    24    35     4     2     5     3    17   \n",
       "227    70  ...  0.769230    28   228   256    82    35    31    83   164   \n",
       "228     0  ...  0.000000     3     5     8     1     1     3     4     9   \n",
       "229  None  ...  0.555555  None  None    46    73  None  None  None    34   \n",
       "230  None  ...  0.706422  None  None  None    50  None  None  None   182   \n",
       "\n",
       "       PTS  \n",
       "0      154  \n",
       "1     6259  \n",
       "2        4  \n",
       "3    12809  \n",
       "4     1215  \n",
       "..     ...  \n",
       "226     23  \n",
       "227    458  \n",
       "228      2  \n",
       "229    118  \n",
       "230    273  \n",
       "\n",
       "[231 rows x 24 columns]"
      ]
     },
     "execution_count": 51,
     "metadata": {},
     "output_type": "execute_result"
    }
   ],
   "source": [
    "TIMEOUT = 200\n",
    "CAREER_TOTALS_DF_INDEX = 1\n",
    "SHARD_SIZE = 250\n",
    "SHORT_SLEEP = 5\n",
    "LONG_SLEEP = 30\n",
    "\n",
    "start = 250*15\n",
    "\n",
    "nba_career_stats = playercareerstats.PlayerCareerStats(\n",
    "    player_id=player_ids[start],\n",
    "    timeout=TIMEOUT\n",
    ").get_data_frames()[CAREER_TOTALS_DF_INDEX]\n",
    "\n",
    "for id in range(start+1,start+SHARD_SIZE):\n",
    "    try:\n",
    "        player_index = player_ids[id]\n",
    "    except IndexError:\n",
    "        break\n",
    "\n",
    "    career = playercareerstats.PlayerCareerStats(\n",
    "        player_id=player_index,\n",
    "        timeout=TIMEOUT\n",
    "    )\n",
    "\n",
    "    career_stats = career.get_data_frames()[CAREER_TOTALS_DF_INDEX]\n",
    "    nba_career_stats = pd.concat([nba_career_stats,career_stats],ignore_index=True)\n",
    "\n",
    "    time.sleep(SHORT_SLEEP)\n",
    "\n",
    "nba_career_stats"
   ]
  },
  {
   "cell_type": "code",
   "execution_count": 52,
   "metadata": {},
   "outputs": [],
   "source": [
    "nba_career_stats_16 = nba_career_stats"
   ]
  },
  {
   "cell_type": "code",
   "execution_count": null,
   "metadata": {},
   "outputs": [],
   "source": [
    "nba_career_stats_1"
   ]
  },
  {
   "cell_type": "code",
   "execution_count": null,
   "metadata": {},
   "outputs": [],
   "source": [
    "nba_career_stats_2"
   ]
  },
  {
   "cell_type": "code",
   "execution_count": null,
   "metadata": {},
   "outputs": [],
   "source": [
    "nba_career_stats_3"
   ]
  },
  {
   "cell_type": "code",
   "execution_count": null,
   "metadata": {},
   "outputs": [],
   "source": [
    "nba_career_stats_4"
   ]
  },
  {
   "cell_type": "code",
   "execution_count": null,
   "metadata": {},
   "outputs": [],
   "source": [
    "nba_career_stats_5"
   ]
  },
  {
   "cell_type": "code",
   "execution_count": 26,
   "metadata": {},
   "outputs": [],
   "source": [
    "nba_career_stats_6"
   ]
  },
  {
   "cell_type": "code",
   "execution_count": null,
   "metadata": {},
   "outputs": [],
   "source": [
    "nba_career_stats_7"
   ]
  },
  {
   "cell_type": "code",
   "execution_count": null,
   "metadata": {},
   "outputs": [],
   "source": [
    "nba_career_stats_8"
   ]
  },
  {
   "cell_type": "code",
   "execution_count": null,
   "metadata": {},
   "outputs": [],
   "source": [
    "nba_career_stats_9"
   ]
  },
  {
   "cell_type": "code",
   "execution_count": null,
   "metadata": {},
   "outputs": [],
   "source": [
    "nba_career_stats_10"
   ]
  },
  {
   "cell_type": "code",
   "execution_count": null,
   "metadata": {},
   "outputs": [],
   "source": [
    "nba_career_stats_11"
   ]
  },
  {
   "cell_type": "code",
   "execution_count": null,
   "metadata": {},
   "outputs": [],
   "source": [
    "nba_career_stats_12"
   ]
  },
  {
   "cell_type": "code",
   "execution_count": null,
   "metadata": {},
   "outputs": [],
   "source": [
    "nba_career_stats_13"
   ]
  },
  {
   "cell_type": "code",
   "execution_count": null,
   "metadata": {},
   "outputs": [],
   "source": [
    "nba_career_stats_14"
   ]
  },
  {
   "cell_type": "code",
   "execution_count": 48,
   "metadata": {},
   "outputs": [],
   "source": [
    "nba_career_stats_15"
   ]
  },
  {
   "cell_type": "code",
   "execution_count": null,
   "metadata": {},
   "outputs": [],
   "source": [
    "nba_career_stats_16"
   ]
  },
  {
   "cell_type": "code",
   "execution_count": 55,
   "metadata": {},
   "outputs": [],
   "source": [
    "nba_career_stats_final = pd.concat([\n",
    "    nba_career_stats_1,\n",
    "    nba_career_stats_2,\n",
    "    nba_career_stats_3,\n",
    "    nba_career_stats_4,\n",
    "    nba_career_stats_5,\n",
    "    nba_career_stats_6,\n",
    "    nba_career_stats_7,\n",
    "    nba_career_stats_8,\n",
    "    nba_career_stats_9,\n",
    "    nba_career_stats_10,\n",
    "    nba_career_stats_11,\n",
    "    nba_career_stats_12,\n",
    "    nba_career_stats_13,\n",
    "    nba_career_stats_14,\n",
    "    nba_career_stats_15,\n",
    "    nba_career_stats_16\n",
    "],axis=0)"
   ]
  },
  {
   "cell_type": "code",
   "execution_count": 56,
   "metadata": {},
   "outputs": [],
   "source": [
    "nba_career_stats_final.to_csv(\"nba_career_stats_final_historic.csv\")"
   ]
  },
  {
   "cell_type": "code",
   "execution_count": null,
   "metadata": {},
   "outputs": [],
   "source": []
  },
  {
   "cell_type": "code",
   "execution_count": null,
   "metadata": {},
   "outputs": [],
   "source": []
  }
 ],
 "metadata": {
  "kernelspec": {
   "display_name": "Python 3",
   "language": "python",
   "name": "python3"
  },
  "language_info": {
   "codemirror_mode": {
    "name": "ipython",
    "version": 3
   },
   "file_extension": ".py",
   "mimetype": "text/x-python",
   "name": "python",
   "nbconvert_exporter": "python",
   "pygments_lexer": "ipython3",
   "version": "3.7.6"
  }
 },
 "nbformat": 4,
 "nbformat_minor": 4
}
